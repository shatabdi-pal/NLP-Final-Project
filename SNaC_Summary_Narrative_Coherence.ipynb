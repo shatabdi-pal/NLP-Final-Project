{
  "nbformat": 4,
  "nbformat_minor": 0,
  "metadata": {
    "colab": {
      "provenance": []
    },
    "kernelspec": {
      "name": "python3",
      "display_name": "Python 3"
    },
    "language_info": {
      "name": "python"
    },
    "accelerator": "GPU",
    "gpuClass": "standard"
  },
  "cells": [
    {
      "cell_type": "code",
      "execution_count": null,
      "metadata": {
        "colab": {
          "base_uri": "https://localhost:8080/"
        },
        "id": "RntpQ96qdRdQ",
        "outputId": "b9fec398-85a9-464a-e66a-2ad5194d0994"
      },
      "outputs": [
        {
          "output_type": "stream",
          "name": "stdout",
          "text": [
            "Cloning into 'snac'...\n",
            "remote: Enumerating objects: 20, done.\u001b[K\n",
            "remote: Counting objects: 100% (20/20), done.\u001b[K\n",
            "remote: Compressing objects: 100% (17/17), done.\u001b[K\n",
            "remote: Total 20 (delta 2), reused 0 (delta 0), pack-reused 0\u001b[K\n",
            "Unpacking objects: 100% (20/20), 261.43 KiB | 4.15 MiB/s, done.\n"
          ]
        }
      ],
      "source": [
        "!git clone https://github.com/tagoyal/snac.git"
      ]
    },
    {
      "cell_type": "markdown",
      "source": [
        "# New Section"
      ],
      "metadata": {
        "id": "tk9tSLJXNHt6"
      }
    },
    {
      "cell_type": "code",
      "source": [
        "!pip install transformers"
      ],
      "metadata": {
        "colab": {
          "base_uri": "https://localhost:8080/"
        },
        "id": "lkIuLdXuduiZ",
        "outputId": "250980af-7228-4649-dd28-10bdf67144e9"
      },
      "execution_count": null,
      "outputs": [
        {
          "output_type": "stream",
          "name": "stdout",
          "text": [
            "Looking in indexes: https://pypi.org/simple, https://us-python.pkg.dev/colab-wheels/public/simple/\n",
            "Collecting transformers\n",
            "  Downloading transformers-4.26.1-py3-none-any.whl (6.3 MB)\n",
            "\u001b[2K     \u001b[90m━━━━━━━━━━━━━━━━━━━━━━━━━━━━━━━━━━━━━━━━\u001b[0m \u001b[32m6.3/6.3 MB\u001b[0m \u001b[31m47.2 MB/s\u001b[0m eta \u001b[36m0:00:00\u001b[0m\n",
            "\u001b[?25hRequirement already satisfied: regex!=2019.12.17 in /usr/local/lib/python3.8/dist-packages (from transformers) (2022.6.2)\n",
            "Collecting huggingface-hub<1.0,>=0.11.0\n",
            "  Downloading huggingface_hub-0.12.1-py3-none-any.whl (190 kB)\n",
            "\u001b[2K     \u001b[90m━━━━━━━━━━━━━━━━━━━━━━━━━━━━━━━━━━━━━━━\u001b[0m \u001b[32m190.3/190.3 KB\u001b[0m \u001b[31m8.4 MB/s\u001b[0m eta \u001b[36m0:00:00\u001b[0m\n",
            "\u001b[?25hRequirement already satisfied: filelock in /usr/local/lib/python3.8/dist-packages (from transformers) (3.9.0)\n",
            "Collecting tokenizers!=0.11.3,<0.14,>=0.11.1\n",
            "  Downloading tokenizers-0.13.2-cp38-cp38-manylinux_2_17_x86_64.manylinux2014_x86_64.whl (7.6 MB)\n",
            "\u001b[2K     \u001b[90m━━━━━━━━━━━━━━━━━━━━━━━━━━━━━━━━━━━━━━━━\u001b[0m \u001b[32m7.6/7.6 MB\u001b[0m \u001b[31m48.0 MB/s\u001b[0m eta \u001b[36m0:00:00\u001b[0m\n",
            "\u001b[?25hRequirement already satisfied: tqdm>=4.27 in /usr/local/lib/python3.8/dist-packages (from transformers) (4.64.1)\n",
            "Requirement already satisfied: numpy>=1.17 in /usr/local/lib/python3.8/dist-packages (from transformers) (1.22.4)\n",
            "Requirement already satisfied: requests in /usr/local/lib/python3.8/dist-packages (from transformers) (2.25.1)\n",
            "Requirement already satisfied: packaging>=20.0 in /usr/local/lib/python3.8/dist-packages (from transformers) (23.0)\n",
            "Requirement already satisfied: pyyaml>=5.1 in /usr/local/lib/python3.8/dist-packages (from transformers) (6.0)\n",
            "Requirement already satisfied: typing-extensions>=3.7.4.3 in /usr/local/lib/python3.8/dist-packages (from huggingface-hub<1.0,>=0.11.0->transformers) (4.5.0)\n",
            "Requirement already satisfied: idna<3,>=2.5 in /usr/local/lib/python3.8/dist-packages (from requests->transformers) (2.10)\n",
            "Requirement already satisfied: certifi>=2017.4.17 in /usr/local/lib/python3.8/dist-packages (from requests->transformers) (2022.12.7)\n",
            "Requirement already satisfied: chardet<5,>=3.0.2 in /usr/local/lib/python3.8/dist-packages (from requests->transformers) (4.0.0)\n",
            "Requirement already satisfied: urllib3<1.27,>=1.21.1 in /usr/local/lib/python3.8/dist-packages (from requests->transformers) (1.26.14)\n",
            "Installing collected packages: tokenizers, huggingface-hub, transformers\n",
            "Successfully installed huggingface-hub-0.12.1 tokenizers-0.13.2 transformers-4.26.1\n"
          ]
        }
      ]
    },
    {
      "cell_type": "code",
      "source": [
        "from google.colab import drive\n",
        "drive.mount('/content/gdrive')"
      ],
      "metadata": {
        "colab": {
          "base_uri": "https://localhost:8080/"
        },
        "id": "uCSL-7hp-37G",
        "outputId": "ba4f434e-526f-437d-bc8a-3a97e8b82367"
      },
      "execution_count": null,
      "outputs": [
        {
          "output_type": "stream",
          "name": "stdout",
          "text": [
            "Mounted at /content/gdrive\n"
          ]
        }
      ]
    },
    {
      "cell_type": "code",
      "source": [
        "!pip install sentencepiece"
      ],
      "metadata": {
        "id": "8PSwVA4jd-Cg",
        "colab": {
          "base_uri": "https://localhost:8080/"
        },
        "outputId": "43d1ecb4-ee7a-4669-a641-10d8c7fdeec1"
      },
      "execution_count": null,
      "outputs": [
        {
          "output_type": "stream",
          "name": "stdout",
          "text": [
            "Looking in indexes: https://pypi.org/simple, https://us-python.pkg.dev/colab-wheels/public/simple/\n",
            "Collecting sentencepiece\n",
            "  Downloading sentencepiece-0.1.97-cp38-cp38-manylinux_2_17_x86_64.manylinux2014_x86_64.whl (1.3 MB)\n",
            "\u001b[2K     \u001b[90m━━━━━━━━━━━━━━━━━━━━━━━━━━━━━━━━━━━━━━━━\u001b[0m \u001b[32m1.3/1.3 MB\u001b[0m \u001b[31m48.1 MB/s\u001b[0m eta \u001b[36m0:00:00\u001b[0m\n",
            "\u001b[?25hInstalling collected packages: sentencepiece\n",
            "Successfully installed sentencepiece-0.1.97\n"
          ]
        }
      ]
    },
    {
      "cell_type": "code",
      "source": [
        "!python3 /content/snac/snac_evaluate.py --validation_file /content/snac/test.tsv --model_name_or_path /content/snac/SNac_data_models/t5-span --output_dir /content/snac/[span_output_dir]"
      ],
      "metadata": {
        "colab": {
          "base_uri": "https://localhost:8080/"
        },
        "id": "Ilo9e5prE8eS",
        "outputId": "6c0ecc08-e015-4da1-c18c-bd3f2cd240e9"
      },
      "execution_count": null,
      "outputs": [
        {
          "output_type": "stream",
          "name": "stdout",
          "text": [
            "2023-03-05 16:17:24.000345: I tensorflow/core/platform/cpu_feature_guard.cc:193] This TensorFlow binary is optimized with oneAPI Deep Neural Network Library (oneDNN) to use the following CPU instructions in performance-critical operations:  AVX2 AVX512F FMA\n",
            "To enable them in other operations, rebuild TensorFlow with the appropriate compiler flags.\n",
            "2023-03-05 16:17:25.003920: W tensorflow/compiler/xla/stream_executor/platform/default/dso_loader.cc:64] Could not load dynamic library 'libnvinfer.so.7'; dlerror: libnvinfer.so.7: cannot open shared object file: No such file or directory; LD_LIBRARY_PATH: /usr/lib64-nvidia\n",
            "2023-03-05 16:17:25.004078: W tensorflow/compiler/xla/stream_executor/platform/default/dso_loader.cc:64] Could not load dynamic library 'libnvinfer_plugin.so.7'; dlerror: libnvinfer_plugin.so.7: cannot open shared object file: No such file or directory; LD_LIBRARY_PATH: /usr/lib64-nvidia\n",
            "2023-03-05 16:17:25.004108: W tensorflow/compiler/tf2tensorrt/utils/py_utils.cc:38] TF-TRT Warning: Cannot dlopen some TensorRT libraries. If you would like to use Nvidia GPU with TensorRT, please make sure the missing libraries mentioned above are installed properly.\n",
            "10\n",
            "{'id': '0', 'context': \"In his younger years, Hardy's father gave him advice that he has been turning over in his mind ever since. Whenever he feels like criticizing anyone, he should remember that all people in the world haven't had the advantages he has. Hardy lives at West Egg, the less fashionable of the two, and his house is an eyesore, but it has a view of the water and the comforting proximity of millionaires. One evening, Hardy drives over to East Egg to see two old friends, Tom Buchanan and Daisy.\", 'sentence': 'Tom and Daisy stroll back into the library as if to a vigil beside a perfectly tangible body.'}\n",
            "{'id': '0', 'context': \"In his younger years, Hardy's father gave him advice that he has been turning over in his mind ever since. Whenever he feels like criticizing anyone, he should remember that all people in the world haven't had the advantages he has. Hardy lives at West Egg, the less fashionable of the two, and his house is an eyesore, but it has a view of the water and the comforting proximity of millionaires. One evening, Hardy drives over to East Egg to see two old friends, Tom Buchanan and Daisy. Tom and Daisy stroll back into the library as if to a vigil beside a perfectly tangible body.\", 'sentence': \"Tom and Mrs. Wilson discuss whether Mrs. Wilson has any right to mention Daisy's name.\"}\n",
            "{'id': '0', 'context': \"Pete the Cat: I Love My White Shoes is a children's picture book about a cool and laid-back cat named Pete who loves his new white shoes. As he walks around town, Pete steps in various things like strawberries, blueberries, and mud, which change the color of his shoes. However, Pete doesn't let the changes bother him and instead keeps on singing his happy song. The book teaches children about positive attitudes and not letting setbacks bring them down.\", 'sentence': \"Tom and Mrs. Wilson discuss whether Mrs. Wilson has any right to mention Daisy's name.\"}\n",
            "{'id': '0', 'context': 'The opening sentence of Jane Austen\\'s Pride and Prejudice, \"It is a truth universally acknowledged, that a single man in possession of a good fortune, must be in want of a wife,\" sets the stage for the rest of the passage.', 'sentence': 'Mrs. Bennet tells her husband that a wealthy young man named Mr. Bingley has rented Netherfield Park, which excites her because she hopes that one of her daughters will marry him.'}\n",
            "{'id': '0', 'context': 'The opening sentence of Jane Austen\\'s Pride and Prejudice, \"It is a truth universally acknowledged, that a single man in possession of a good fortune, must be in want of a wife,\" sets the stage for the rest of the passage.Mrs. Bennet tells her husband that a wealthy young man named Mr. Bingley has rented Netherfield Park, which excites her because she hopes that one of her daughters will marry him.', 'sentence': 'Mr. Bennet is skeptical but eventually agrees to visit Mr. Bingley. The passage also reveals the characters of Mr. and Mrs. Bennet: Mr. Bennet is sarcastic and reserved while Mrs. Bennet is focused on getting her daughters married and easily irritated.'}\n",
            "{'id': '0', 'context': \"In Scene III of King Lear, Goneril, one of Lear's daughters, speaks with her steward Oswald about her father's behavior.\", 'sentence': 'She complains about how he causes trouble and argues with her and her knights, and plans to confront him when he returns from hunting. '}\n",
            "{'id': '0', 'context': \"In Scene III of King Lear, Goneril, one of Lear's daughters, speaks with her steward Oswald about her father's behavior.She complains about how he causes trouble and argues with her and her knights, and plans to confront him when he returns from hunting.\", 'sentence': 'Goneril also reveals her plan to send a letter to her sister, Regan, to inform her of the situation. '}\n",
            "{'id': '0', 'context': \"In Scene III of King Lear, Goneril, one of Lear's daughters, speaks with her steward Oswald about her father's behavior.She complains about how he causes trouble and argues with her and her knights, and plans to confront him when he returns from hunting.Goneril also reveals her plan to send a letter to her sister, Regan, to inform her of the situation.\", 'sentence': 'She instructs Oswald to act indifferent towards Lear and his knights and to let them know that she will not tolerate their behavior.'}\n",
            "{'id': '0', 'context': 'We develop a taxonomy of coherence errors in generated narrative summaries. We collect span-level annotations for 6.6k sentences across 150 book and movie summary.', 'sentence': 'The collectedannotations allow us to benchmark past work in coherence modeling and train a strong classifier.'}\n",
            "{'id': '0', 'context': 'the year 2018 has been an inflection point for machine learning models handling text.', 'sentence': 'one of the latest milestones in this development is the release of BERT.it is a model that broke several records for how well models can handle language-based tasks '}\n",
            "Evaluation: 2it [00:08,  4.02s/it]\n"
          ]
        }
      ]
    },
    {
      "cell_type": "code",
      "source": [
        "!python3 /content/snac/snac_evaluate.py --validation_file /content/snac/test.tsv  --model_name_or_path  /content/snac/SNac_data_models/t5-nospan  --output_dir /content/snac/[nospan_output_dir]"
      ],
      "metadata": {
        "id": "xPqB-g7Q3F9E",
        "colab": {
          "base_uri": "https://localhost:8080/"
        },
        "outputId": "1aa99622-985d-4818-860e-b186e8cae541"
      },
      "execution_count": null,
      "outputs": [
        {
          "output_type": "stream",
          "name": "stdout",
          "text": [
            "2023-03-05 16:22:55.404855: I tensorflow/core/platform/cpu_feature_guard.cc:193] This TensorFlow binary is optimized with oneAPI Deep Neural Network Library (oneDNN) to use the following CPU instructions in performance-critical operations:  AVX2 AVX512F FMA\n",
            "To enable them in other operations, rebuild TensorFlow with the appropriate compiler flags.\n",
            "2023-03-05 16:22:56.513808: W tensorflow/compiler/xla/stream_executor/platform/default/dso_loader.cc:64] Could not load dynamic library 'libnvinfer.so.7'; dlerror: libnvinfer.so.7: cannot open shared object file: No such file or directory; LD_LIBRARY_PATH: /usr/lib64-nvidia\n",
            "2023-03-05 16:22:56.513934: W tensorflow/compiler/xla/stream_executor/platform/default/dso_loader.cc:64] Could not load dynamic library 'libnvinfer_plugin.so.7'; dlerror: libnvinfer_plugin.so.7: cannot open shared object file: No such file or directory; LD_LIBRARY_PATH: /usr/lib64-nvidia\n",
            "2023-03-05 16:22:56.513955: W tensorflow/compiler/tf2tensorrt/utils/py_utils.cc:38] TF-TRT Warning: Cannot dlopen some TensorRT libraries. If you would like to use Nvidia GPU with TensorRT, please make sure the missing libraries mentioned above are installed properly.\n",
            "10\n",
            "{'id': '0', 'context': \"In his younger years, Hardy's father gave him advice that he has been turning over in his mind ever since. Whenever he feels like criticizing anyone, he should remember that all people in the world haven't had the advantages he has. Hardy lives at West Egg, the less fashionable of the two, and his house is an eyesore, but it has a view of the water and the comforting proximity of millionaires. One evening, Hardy drives over to East Egg to see two old friends, Tom Buchanan and Daisy.\", 'sentence': 'Tom and Daisy stroll back into the library as if to a vigil beside a perfectly tangible body.'}\n",
            "{'id': '0', 'context': \"In his younger years, Hardy's father gave him advice that he has been turning over in his mind ever since. Whenever he feels like criticizing anyone, he should remember that all people in the world haven't had the advantages he has. Hardy lives at West Egg, the less fashionable of the two, and his house is an eyesore, but it has a view of the water and the comforting proximity of millionaires. One evening, Hardy drives over to East Egg to see two old friends, Tom Buchanan and Daisy. Tom and Daisy stroll back into the library as if to a vigil beside a perfectly tangible body.\", 'sentence': \"Tom and Mrs. Wilson discuss whether Mrs. Wilson has any right to mention Daisy's name.\"}\n",
            "{'id': '0', 'context': \"Pete the Cat: I Love My White Shoes is a children's picture book about a cool and laid-back cat named Pete who loves his new white shoes. As he walks around town, Pete steps in various things like strawberries, blueberries, and mud, which change the color of his shoes. However, Pete doesn't let the changes bother him and instead keeps on singing his happy song. The book teaches children about positive attitudes and not letting setbacks bring them down.\", 'sentence': \"Tom and Mrs. Wilson discuss whether Mrs. Wilson has any right to mention Daisy's name.\"}\n",
            "{'id': '0', 'context': 'The opening sentence of Jane Austen\\'s Pride and Prejudice, \"It is a truth universally acknowledged, that a single man in possession of a good fortune, must be in want of a wife,\" sets the stage for the rest of the passage.', 'sentence': 'Mrs. Bennet tells her husband that a wealthy young man named Mr. Bingley has rented Netherfield Park, which excites her because she hopes that one of her daughters will marry him.'}\n",
            "{'id': '0', 'context': 'The opening sentence of Jane Austen\\'s Pride and Prejudice, \"It is a truth universally acknowledged, that a single man in possession of a good fortune, must be in want of a wife,\" sets the stage for the rest of the passage.Mrs. Bennet tells her husband that a wealthy young man named Mr. Bingley has rented Netherfield Park, which excites her because she hopes that one of her daughters will marry him.', 'sentence': 'Mr. Bennet is skeptical but eventually agrees to visit Mr. Bingley. The passage also reveals the characters of Mr. and Mrs. Bennet: Mr. Bennet is sarcastic and reserved while Mrs. Bennet is focused on getting her daughters married and easily irritated.'}\n",
            "{'id': '0', 'context': \"In Scene III of King Lear, Goneril, one of Lear's daughters, speaks with her steward Oswald about her father's behavior.\", 'sentence': 'She complains about how he causes trouble and argues with her and her knights, and plans to confront him when he returns from hunting. '}\n",
            "{'id': '0', 'context': \"In Scene III of King Lear, Goneril, one of Lear's daughters, speaks with her steward Oswald about her father's behavior.She complains about how he causes trouble and argues with her and her knights, and plans to confront him when he returns from hunting.\", 'sentence': 'Goneril also reveals her plan to send a letter to her sister, Regan, to inform her of the situation. '}\n",
            "{'id': '0', 'context': \"In Scene III of King Lear, Goneril, one of Lear's daughters, speaks with her steward Oswald about her father's behavior.She complains about how he causes trouble and argues with her and her knights, and plans to confront him when he returns from hunting.Goneril also reveals her plan to send a letter to her sister, Regan, to inform her of the situation.\", 'sentence': 'She instructs Oswald to act indifferent towards Lear and his knights and to let them know that she will not tolerate their behavior.'}\n",
            "{'id': '0', 'context': 'We develop a taxonomy of coherence errors in generated narrative summaries. We collect span-level annotations for 6.6k sentences across 150 book and movie summary.', 'sentence': 'The collectedannotations allow us to benchmark past work in coherence modeling and train a strong classifier.'}\n",
            "{'id': '0', 'context': 'the year 2018 has been an inflection point for machine learning models handling text.', 'sentence': 'one of the latest milestones in this development is the release of BERT.it is a model that broke several records for how well models can handle language-based tasks '}\n",
            "Evaluation: 2it [00:06,  3.34s/it]\n"
          ]
        }
      ]
    },
    {
      "cell_type": "code",
      "source": [
        "!python3 /content/snac/snac_evaluate.py --validation_file /content/snac/sample.tsv --model_name_or_path  /content/snac/SNac_data_models/t5-nospan  --output_dir /content/snac/[output_test]"
      ],
      "metadata": {
        "colab": {
          "base_uri": "https://localhost:8080/"
        },
        "id": "xLUJ2rICZqGv",
        "outputId": "c344a11a-4038-4183-f6e3-b123f723da0a"
      },
      "execution_count": null,
      "outputs": [
        {
          "output_type": "stream",
          "name": "stdout",
          "text": [
            "2023-03-05 15:49:48.749373: I tensorflow/core/platform/cpu_feature_guard.cc:193] This TensorFlow binary is optimized with oneAPI Deep Neural Network Library (oneDNN) to use the following CPU instructions in performance-critical operations:  AVX2 AVX512F FMA\n",
            "To enable them in other operations, rebuild TensorFlow with the appropriate compiler flags.\n",
            "2023-03-05 15:49:49.668461: W tensorflow/compiler/xla/stream_executor/platform/default/dso_loader.cc:64] Could not load dynamic library 'libnvinfer.so.7'; dlerror: libnvinfer.so.7: cannot open shared object file: No such file or directory; LD_LIBRARY_PATH: /usr/lib64-nvidia\n",
            "2023-03-05 15:49:49.668592: W tensorflow/compiler/xla/stream_executor/platform/default/dso_loader.cc:64] Could not load dynamic library 'libnvinfer_plugin.so.7'; dlerror: libnvinfer_plugin.so.7: cannot open shared object file: No such file or directory; LD_LIBRARY_PATH: /usr/lib64-nvidia\n",
            "2023-03-05 15:49:49.668613: W tensorflow/compiler/tf2tensorrt/utils/py_utils.cc:38] TF-TRT Warning: Cannot dlopen some TensorRT libraries. If you would like to use Nvidia GPU with TensorRT, please make sure the missing libraries mentioned above are installed properly.\n",
            "2\n",
            "{'id': '0', 'context': \"In his younger years, Hardy's father gave him advice that he has been turning over in his mind ever since. Whenever he feels like criticizing anyone, he should remember that all people in the world haven't had the advantages he has. Hardy lives at West Egg, the less fashionable of the two, and his house is an eyesore, but it has a view of the water and the comforting proximity of millionaires. One evening, Hardy drives over to East Egg to see two old friends, Tom Buchanan and Daisy.\", 'sentence': 'Tom and Daisy stroll back into the library as if to a vigil beside a perfectly tangible body.'}\n",
            "{'id': '0', 'context': \"In his younger years, Hardy's father gave him advice that he has been turning over in his mind ever since. Whenever he feels like criticizing anyone, he should remember that all people in the world haven't had the advantages he has. Hardy lives at West Egg, the less fashionable of the two, and his house is an eyesore, but it has a view of the water and the comforting proximity of millionaires. One evening, Hardy drives over to East Egg to see two old friends, Tom Buchanan and Daisy. Tom and Daisy stroll back into the library as if to a vigil beside a perfectly tangible body.\", 'sentence': \"Tom and Mrs. Wilson discuss whether Mrs. Wilson has any right to mention Daisy's name.\"}\n",
            "Evaluation: 1it [00:03,  3.79s/it]\n"
          ]
        }
      ]
    },
    {
      "cell_type": "code",
      "source": [
        "!python3 /content/snac/snac_evaluate.py --validation_file /content/snac/sample.tsv --model_name_or_path  /content/snac/SNac_data_models/t5-span  --output_dir /content/snac/[output_test]"
      ],
      "metadata": {
        "colab": {
          "base_uri": "https://localhost:8080/"
        },
        "id": "zdNCyuPy5m0I",
        "outputId": "76ff0a38-b076-4039-c859-eb5d816e54d1"
      },
      "execution_count": null,
      "outputs": [
        {
          "output_type": "stream",
          "name": "stdout",
          "text": [
            "2023-03-05 15:50:46.776005: I tensorflow/core/platform/cpu_feature_guard.cc:193] This TensorFlow binary is optimized with oneAPI Deep Neural Network Library (oneDNN) to use the following CPU instructions in performance-critical operations:  AVX2 AVX512F FMA\n",
            "To enable them in other operations, rebuild TensorFlow with the appropriate compiler flags.\n",
            "2023-03-05 15:50:47.738113: W tensorflow/compiler/xla/stream_executor/platform/default/dso_loader.cc:64] Could not load dynamic library 'libnvinfer.so.7'; dlerror: libnvinfer.so.7: cannot open shared object file: No such file or directory; LD_LIBRARY_PATH: /usr/lib64-nvidia\n",
            "2023-03-05 15:50:47.738258: W tensorflow/compiler/xla/stream_executor/platform/default/dso_loader.cc:64] Could not load dynamic library 'libnvinfer_plugin.so.7'; dlerror: libnvinfer_plugin.so.7: cannot open shared object file: No such file or directory; LD_LIBRARY_PATH: /usr/lib64-nvidia\n",
            "2023-03-05 15:50:47.738279: W tensorflow/compiler/tf2tensorrt/utils/py_utils.cc:38] TF-TRT Warning: Cannot dlopen some TensorRT libraries. If you would like to use Nvidia GPU with TensorRT, please make sure the missing libraries mentioned above are installed properly.\n",
            "2\n",
            "{'id': '0', 'context': \"In his younger years, Hardy's father gave him advice that he has been turning over in his mind ever since. Whenever he feels like criticizing anyone, he should remember that all people in the world haven't had the advantages he has. Hardy lives at West Egg, the less fashionable of the two, and his house is an eyesore, but it has a view of the water and the comforting proximity of millionaires. One evening, Hardy drives over to East Egg to see two old friends, Tom Buchanan and Daisy.\", 'sentence': 'Tom and Daisy stroll back into the library as if to a vigil beside a perfectly tangible body.'}\n",
            "{'id': '0', 'context': \"In his younger years, Hardy's father gave him advice that he has been turning over in his mind ever since. Whenever he feels like criticizing anyone, he should remember that all people in the world haven't had the advantages he has. Hardy lives at West Egg, the less fashionable of the two, and his house is an eyesore, but it has a view of the water and the comforting proximity of millionaires. One evening, Hardy drives over to East Egg to see two old friends, Tom Buchanan and Daisy. Tom and Daisy stroll back into the library as if to a vigil beside a perfectly tangible body.\", 'sentence': \"Tom and Mrs. Wilson discuss whether Mrs. Wilson has any right to mention Daisy's name.\"}\n",
            "Evaluation: 1it [00:02,  2.04s/it]\n"
          ]
        }
      ]
    }
  ]
}